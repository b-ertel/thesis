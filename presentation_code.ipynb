{
 "cells": [
  {
   "cell_type": "markdown",
   "metadata": {},
   "source": [
    "### import libraries"
   ]
  },
  {
   "cell_type": "code",
   "execution_count": 1,
   "metadata": {},
   "outputs": [],
   "source": [
    "using QuantumOptics, PyPlot, PyCall, JLD"
   ]
  },
  {
   "cell_type": "markdown",
   "metadata": {},
   "source": [
    "### define parameters for the position and momentum basis"
   ]
  },
  {
   "cell_type": "code",
   "execution_count": 2,
   "metadata": {},
   "outputs": [
    {
     "data": {
      "text/plain": [
       "LazySum(dim=1984x1984)\n",
       "  basis: [Position(xmin=-20.0, xmax=20.0, N=62) ⊗ Position(xmin=-10.0, xmax=10.0, N=32)]\n",
       "  operators: 3"
      ]
     },
     "execution_count": 2,
     "metadata": {},
     "output_type": "execute_result"
    }
   ],
   "source": [
    "#coupling factor\n",
    "g=-29.45\n",
    "\n",
    "#position and momentum basis in x\n",
    "x_min= -20\n",
    "x_max = 20\n",
    "x_steps = 62\n",
    "dx = (x_max - x_min) / x_steps\n",
    "b_x = PositionBasis(x_min, x_max, x_steps)\n",
    "b_px = MomentumBasis(b_x)\n",
    "xsample = samplepoints(b_x)\n",
    "\n",
    "#position and momentum basis in y\n",
    "y_min= -10\n",
    "y_max = 10\n",
    "y_steps = 32\n",
    "dy = (y_max - y_min) / y_steps\n",
    "b_y = PositionBasis(y_min, y_max, y_steps)\n",
    "b_py = MomentumBasis(b_y)\n",
    "ysample = samplepoints(b_y)\n",
    "\n",
    "#momentum:\n",
    "px = momentum(b_px)\n",
    "py = momentum(b_py)\n",
    "\n",
    "#TransformationOperator for composite bases:\n",
    "b_comp_x = tensor(b_x, b_y)\n",
    "b_comp_p = tensor(b_px, b_py)\n",
    "Txp = transform(b_comp_x, b_comp_p)\n",
    "Tpx = transform(b_comp_p, b_comp_x)\n",
    "\n",
    "#Hamiltonians:\n",
    "Hkinx = LazyTensor(b_comp_p, [1, 2], [px^2/2, one(b_py)])\n",
    "Hkiny = LazyTensor(b_comp_p, [1, 2], [one(b_px), py^2/2])\n",
    "\n",
    "Hkinx_FFT = LazyProduct(Txp, Hkinx, Tpx)\n",
    "Hkiny_FFT = LazyProduct(Txp, Hkiny, Tpx)\n",
    "\n",
    "Hpsi = diagonaloperator(b_comp_x, Ket(b_comp_x).data) # proportional zu |psi|^2\n",
    "H0 = LazySum(Hkinx_FFT, Hkiny_FFT, Hpsi)"
   ]
  },
  {
   "cell_type": "markdown",
   "metadata": {},
   "source": [
    "### parameters for two gaussian wavepacket"
   ]
  },
  {
   "cell_type": "code",
   "execution_count": 3,
   "metadata": {},
   "outputs": [],
   "source": [
    "#position\n",
    "x0 = 5\n",
    "y0 = 0\n",
    "\n",
    "#momentum\n",
    "p0_x = 0\n",
    "p0_y = 0\n",
    "\n",
    "#size\n",
    "sigmax = 2\n",
    "sigmay= 2\n",
    "\n",
    "#first wavepacket\n",
    "psix1 = gaussianstate(b_x, -x0, p0_x, sigmax)\n",
    "psiy1 = gaussianstate(b_y, y0, p0_y, sigmay)\n",
    "psi1 = psix1 ⊗ psiy1\n",
    "\n",
    "#second wavepacket\n",
    "psix2 = gaussianstate(b_x, x0, -p0_x, sigmax)\n",
    "psiy2 = gaussianstate(b_y, y0, p0_y, sigmay)\n",
    "psi2 = psix2 ⊗ psiy2\n",
    "\n",
    "psi = normalize(psi1 + psi2)\n",
    "\n",
    ";"
   ]
  },
  {
   "cell_type": "code",
   "execution_count": 4,
   "metadata": {},
   "outputs": [
    {
     "data": {
      "text/plain": [
       "H (generic function with 1 method)"
      ]
     },
     "execution_count": 4,
     "metadata": {},
     "output_type": "execute_result"
    }
   ],
   "source": [
    "function H(t, psi) # updating state-dependent term in Hamiltonian H\n",
    "\tHpsi.data.nzval .= g*abs2.(psi.data)\n",
    "\treturn H0\n",
    "end"
   ]
  },
  {
   "cell_type": "markdown",
   "metadata": {},
   "source": [
    "## calculating evolution of the wavepackets - this is where the magic happens!"
   ]
  },
  {
   "cell_type": "code",
   "execution_count": 5,
   "metadata": {},
   "outputs": [],
   "source": [
    "T = [0:1:100;]\n",
    "tout, psit = timeevolution.schroedinger_dynamic(T, psi, H) \n",
    "density = [reshape(abs2.(psi.data), (x_steps, y_steps))' for psi=psit]\n",
    "\n",
    ";"
   ]
  },
  {
   "cell_type": "markdown",
   "metadata": {},
   "source": [
    "### plotting the results"
   ]
  },
  {
   "cell_type": "code",
   "execution_count": 6,
   "metadata": {},
   "outputs": [
    {
     "data": {
      "text/plain": [
       "make_plot (generic function with 1 method)"
      ]
     },
     "execution_count": 6,
     "metadata": {},
     "output_type": "execute_result"
    }
   ],
   "source": [
    "#function for the subplots - because pyplot in julia takes no loops\n",
    "function make_plot(idx, textx_position, texty_position)\n",
    "    c = contourf(xsample, ysample, density[idx], clev )\n",
    "    text(textx_position, texty_position, L\"time $t$:\"*\"$(T[idx])\", color=\"white\") #Zeitstempel\n",
    "    text(textx_position, texty_position+2, L\"norm $=$ \"*\"$(round(norm(psit[idx]),digits = 7))\", color = \"white\") # Normstempel\n",
    "    xlabel(L\"$x / \\bar{x}$\")\n",
    "    ylabel(L\"$y / \\bar{x}$\")\n",
    "    return c\n",
    "end"
   ]
  },
  {
   "cell_type": "code",
   "execution_count": 8,
   "metadata": {},
   "outputs": [
    {
     "ename": "UndefVarError",
     "evalue": "\u001b[91mUndefVarError: c not defined\u001b[39m",
     "output_type": "error",
     "traceback": [
      "\u001b[91mUndefVarError: c not defined\u001b[39m",
      "",
      "Stacktrace:",
      " [1] top-level scope at In[8]:27"
     ]
    }
   ],
   "source": [
    "#Daten für Plot:\n",
    "maxval = maximum(density[10])\n",
    "textx_position = minimum(xsample)+1\n",
    "texty_position = minimum(ysample)+1\n",
    "rc(\"font\", family=\"serif\") #Schrift für Plot\n",
    "clev = LinRange(0,maxval, 10)\n",
    "fig = figure(figsize=(10,8)) \n",
    "\n",
    "i=1\n",
    "subplot(221,aspect=\"equal\")\n",
    "make_plot(i, textx_position, texty_position)\n",
    "\n",
    "i=8\n",
    "subplot(222,aspect=\"equal\")\n",
    "make_plot(i, textx_position, texty_position)\n",
    "\n",
    "i=32\n",
    "subplot(223,aspect=\"equal\")\n",
    "make_plot(i, textx_position, texty_position)\n",
    "\n",
    "i=42\n",
    "subplot(224,aspect=\"equal\")\n",
    "make_plot(i, textx_position, texty_position)\n",
    "\n",
    "#Colorbar:\n",
    "cbar_ax = fig.add_axes([1, 0.145, 0.015, 0.7])\n",
    "cbar = fig.colorbar(c, cax=cbar_ax, ticks=[0, maxval])\n",
    "cbar.set_label(\"Probability density\")\n",
    "cbar.set_ticklabels([\"Low\", \"High\"])\n",
    "\n",
    "tight_layout()\n",
    "show()"
   ]
  },
  {
   "cell_type": "code",
   "execution_count": null,
   "metadata": {},
   "outputs": [],
   "source": []
  }
 ],
 "metadata": {
  "kernelspec": {
   "display_name": "Julia 1.4.1",
   "language": "julia",
   "name": "julia-1.4"
  },
  "language_info": {
   "file_extension": ".jl",
   "mimetype": "application/julia",
   "name": "julia",
   "version": "1.4.1"
  }
 },
 "nbformat": 4,
 "nbformat_minor": 4
}
